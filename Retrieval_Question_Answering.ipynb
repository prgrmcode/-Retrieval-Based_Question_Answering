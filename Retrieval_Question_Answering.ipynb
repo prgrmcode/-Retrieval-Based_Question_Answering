{
 "cells": [
  {
   "cell_type": "markdown",
   "metadata": {},
   "source": [
    "# Understanding Retrieval Question Answering\n"
   ]
  },
  {
   "cell_type": "markdown",
   "metadata": {},
   "source": [
    "### Setup\n"
   ]
  },
  {
   "cell_type": "code",
   "execution_count": 1,
   "metadata": {},
   "outputs": [
    {
     "name": "stdout",
     "output_type": "stream",
     "text": [
      "Note: you may need to restart the kernel to use updated packages.\n"
     ]
    }
   ],
   "source": [
    "%pip install -Uqqq rich tiktoken wandb langchain unstructured tabulate pdf2image chromadb"
   ]
  },
  {
   "cell_type": "code",
   "execution_count": null,
   "metadata": {},
   "outputs": [],
   "source": [
    "# to use huggingface models:\n",
    "%pip install --upgrade transformers"
   ]
  },
  {
   "cell_type": "code",
   "execution_count": null,
   "metadata": {},
   "outputs": [],
   "source": [
    "%pip install -U \"huggingface_hub[cli]\" \n",
    "%huggingface-cli login"
   ]
  },
  {
   "cell_type": "code",
   "execution_count": 2,
   "metadata": {},
   "outputs": [],
   "source": [
    "import os, random\n",
    "from pathlib import Path\n",
    "import tiktoken\n",
    "from getpass import getpass\n",
    "from rich.markdown import Markdown"
   ]
  },
  {
   "cell_type": "code",
   "execution_count": null,
   "metadata": {},
   "outputs": [
    {
     "name": "stdout",
     "output_type": "stream",
     "text": [
      "Please enter password in the VS Code prompt at the top of your VS Code window!\n"
     ]
    }
   ],
   "source": [
    "# Check if the Hugging Face API token is set\n",
    "if os.getenv(\"HUGGINGFACE_API_TOKEN\") is None:\n",
    "    if any(['VSCODE' in x for x in os.environ.keys()]):\n",
    "        print('Please enter password in the VS Code prompt at the top of your VS Code window!')\n",
    "    os.environ[\"HUGGINGFACE_API_TOKEN\"] = getpass(\"Paste your Hugging Face API token from: https://huggingface.co/settings/tokens\\n\")\n",
    "\n",
    "assert os.getenv(\"HUGGINGFACE_API_TOKEN\", \"\").startswith(\"hf_\"), \"This doesn't look like a valid Hugging Face API token\"\n",
    "print(\"Hugging Face API token is configured\")"
   ]
  },
  {
   "cell_type": "markdown",
   "metadata": {},
   "source": [
    "## Langchain\n"
   ]
  },
  {
   "cell_type": "markdown",
   "metadata": {},
   "source": [
    "LangChain is a framework for developing applications powered by language models. We will use some of its features in the code below. Let's start by configuring W&B tracing."
   ]
  },
  {
   "cell_type": "code",
   "execution_count": 3,
   "metadata": {},
   "outputs": [],
   "source": [
    "# we need a single line of code to start tracing langchain with W&B\n",
    "os.environ[\"LANGCHAIN_WANDB_TRACING\"] = \"true\"\n",
    "\n",
    "# wandb documentation to configure wandb using env variables\n",
    "# https://docs.wandb.ai/guides/track/advanced/environment-variables\n",
    "# here we are configuring the wandb project name\n",
    "os.environ[\"WANDB_PROJECT\"] = \"llmapps\""
   ]
  },
  {
   "cell_type": "markdown",
   "metadata": {},
   "source": [
    "## Parsing documents\n"
   ]
  },
  {
   "cell_type": "markdown",
   "metadata": {},
   "source": [
    "We will use a small sample of markdown documents in this notebook. Let's find them and make sure we can stuff them into the prompt. That means they may need to be chunked and not exceed some number of tokens."
   ]
  },
  {
   "cell_type": "code",
   "execution_count": null,
   "metadata": {},
   "outputs": [],
   "source": [
    "%pip install -U langchain-community"
   ]
  },
  {
   "cell_type": "code",
   "execution_count": 4,
   "metadata": {},
   "outputs": [
    {
     "name": "stderr",
     "output_type": "stream",
     "text": [
      "Loading checkpoint shards: 100%|██████████| 4/4 [00:02<00:00,  1.38it/s]\n",
      "Some parameters are on the meta device because they were offloaded to the cpu and disk.\n"
     ]
    }
   ],
   "source": [
    "import torch\n",
    "import transformers\n",
    "\n",
    "from transformers import set_seed\n",
    "from langchain_community.document_loaders import DirectoryLoader, TextLoader\n",
    "\n",
    "# Set random seed for reproducibility\n",
    "set_seed(17)\n",
    "\n",
    "# Initialize the tokenizer and model\n",
    "# model_id = \"meta-llama/Meta-Llama-3.1-70B-Instruct\"\n",
    "model_id = \"meta-llama/Meta-Llama-3-8B-Instruct\"\n",
    "tokenizer = transformers.AutoTokenizer.from_pretrained(model_id)\n",
    "model = transformers.AutoModelForCausalLM.from_pretrained(model_id, torch_dtype=torch.bfloat16, device_map=\"auto\")\n"
   ]
  },
  {
   "cell_type": "markdown",
   "metadata": {},
   "source": [
    "https://python.langchain.com/v0.2/docs/how_to/document_loader_directory/"
   ]
  },
  {
   "cell_type": "code",
   "execution_count": 5,
   "metadata": {},
   "outputs": [
    {
     "name": "stderr",
     "output_type": "stream",
     "text": [
      "100%|██████████| 11/11 [00:00<00:00, 5508.94it/s]"
     ]
    },
    {
     "name": "stdout",
     "output_type": "stream",
     "text": [
      "Time taken to load documents: 0.01 seconds\n",
      "Number of documents loaded: 11\n"
     ]
    },
    {
     "name": "stderr",
     "output_type": "stream",
     "text": [
      "\n"
     ]
    }
   ],
   "source": [
    "import time\n",
    "\n",
    "# Function to find all markdown files in a directory and return a LangChain Document\n",
    "def find_md_files(directory):\n",
    "    \"Find all markdown files in a directory and return a LangChain Document\"\n",
    "    start_time = time.time()\n",
    "    # dl = DirectoryLoader(directory, \"**/*.md\")\n",
    "    loader = DirectoryLoader(directory,  glob=\"**/*.md\", loader_cls=TextLoader, show_progress=True)\n",
    "    documents = loader.load()\n",
    "    end_time = time.time()\n",
    "    print(f\"Time taken to load documents: {end_time - start_time:.2f} seconds\")\n",
    "    return documents\n",
    "\n",
    "# Load documents from the specified directory\n",
    "documents = find_md_files(directory=\"docs_sample/\")\n",
    "print(f\"Number of documents loaded: {len(documents)}\")"
   ]
  },
  {
   "cell_type": "code",
   "execution_count": 6,
   "metadata": {},
   "outputs": [
    {
     "name": "stdout",
     "output_type": "stream",
     "text": [
      "Token counts: [366, 2597, 2939, 4180, 802, 1206, 538, 957, 2092, 2526, 1645]\n"
     ]
    }
   ],
   "source": [
    "# Function to count tokens in each document\n",
    "def count_tokens(documents):\n",
    "    token_counts = [len(tokenizer.encode(document.page_content)) for document in documents]\n",
    "    return token_counts\n",
    "\n",
    "# Count tokens in the documents\n",
    "token_counts = count_tokens(documents)\n",
    "print(f\"Token counts: {token_counts}\")"
   ]
  },
  {
   "cell_type": "markdown",
   "metadata": {},
   "source": [
    "We will use LangChain built in MarkdownTextSplitter to split the documents into sections. Actually splitting Markdown without breaking syntax is not that easy. This splitter strips out syntax.\n",
    "\n",
    "- We can pass the chunk_size param and avoid lenghty chunks.\n",
    "- The chunk_overlap param is useful so you don't cut sentences randomly. This is less necessary with Markdown\n",
    " \n",
    "The MarkdownTextSplitter also takes care of removing double line breaks and save us some tokens that way."
   ]
  },
  {
   "cell_type": "code",
   "execution_count": 7,
   "metadata": {},
   "outputs": [
    {
     "name": "stdout",
     "output_type": "stream",
     "text": [
      "Number of document sections: 124\n",
      "Max tokens in a section: 384\n"
     ]
    }
   ],
   "source": [
    "from langchain.text_splitter import MarkdownTextSplitter\n",
    "\n",
    "md_text_splitter = MarkdownTextSplitter(chunk_size=1000)\n",
    "document_sections = md_text_splitter.split_documents(documents)\n",
    "# len(document_sections), max(count_tokens(document_sections))\n",
    "print(f\"Number of document sections: {len(document_sections)}\")\n",
    "print(f\"Max tokens in a section: {max(count_tokens(document_sections))}\")"
   ]
  },
  {
   "cell_type": "markdown",
   "metadata": {},
   "source": [
    "Take a look at the first section:\n",
    "\n"
   ]
  },
  {
   "cell_type": "code",
   "execution_count": 8,
   "metadata": {},
   "outputs": [
    {
     "data": {
      "text/html": [
       "<pre style=\"white-space:pre;overflow-x:auto;line-height:normal;font-family:Menlo,'DejaVu Sans Mono',consolas,'Courier New',monospace\"><span style=\"color: #808000; text-decoration-color: #808000\">───────────────────────────────────────────────────────────────────────────────────────────────────────────────────</span>\n",
       "\n",
       "               <span style=\"font-weight: bold; text-decoration: underline\">description: Collaborate and share W&amp;B Reports with peers, co-workers, and your team.</span>               \n",
       "\n",
       "┏━━━━━━━━━━━━━━━━━━━━━━━━━━━━━━━━━━━━━━━━━━━━━━━━━━━━━━━━━━━━━━━━━━━━━━━━━━━━━━━━━━━━━━━━━━━━━━━━━━━━━━━━━━━━━━━━━┓\n",
       "┃                                             <span style=\"font-weight: bold\">Collaborate on reports</span>                                              ┃\n",
       "┗━━━━━━━━━━━━━━━━━━━━━━━━━━━━━━━━━━━━━━━━━━━━━━━━━━━━━━━━━━━━━━━━━━━━━━━━━━━━━━━━━━━━━━━━━━━━━━━━━━━━━━━━━━━━━━━━━┛\n",
       "\n",
       "\n",
       "Once you have saved a report, you can select the <span style=\"font-weight: bold\">Share</span> button to collaborate. A draft copy of the report is created\n",
       "when you select the <span style=\"font-weight: bold\">Edit</span> button. Draft reports auto-save. Select <span style=\"font-weight: bold\">Save to report</span> to publish your changes to the     \n",
       "shared report.                                                                                                     \n",
       "\n",
       "A warning notification will appear if an edit conflict occurs. This can occur if you and another collaborator edit \n",
       "the same report at the same time. The warning notification will guide you to resolve potential edit conflicts.     \n",
       "\n",
       "🌆 <a href=\"@site/static/images/reports/share-report.gif\" target=\"_blank\">Report sharing modal for a report in a 'Public' project</a>                                                                                                                    \n",
       "\n",
       "                                                <span style=\"font-weight: bold\">Comment on reports</span>                                                 \n",
       "\n",
       "Click the comment button on a panel in a report to add a comment directly to that panel.                           \n",
       "\n",
       "🌆 <a href=\"/images/reports/demo_comment_on_panels_in_reports.gif\" target=\"_blank\">Adding a comment to a panel</a>                                                                                                                    \n",
       "</pre>\n"
      ],
      "text/plain": [
       "\u001b[33m───────────────────────────────────────────────────────────────────────────────────────────────────────────────────\u001b[0m\n",
       "\n",
       "               \u001b[1;4mdescription: Collaborate and share W&B Reports with peers, co-workers, and your team.\u001b[0m               \n",
       "\n",
       "┏━━━━━━━━━━━━━━━━━━━━━━━━━━━━━━━━━━━━━━━━━━━━━━━━━━━━━━━━━━━━━━━━━━━━━━━━━━━━━━━━━━━━━━━━━━━━━━━━━━━━━━━━━━━━━━━━━┓\n",
       "┃                                             \u001b[1mCollaborate on reports\u001b[0m                                              ┃\n",
       "┗━━━━━━━━━━━━━━━━━━━━━━━━━━━━━━━━━━━━━━━━━━━━━━━━━━━━━━━━━━━━━━━━━━━━━━━━━━━━━━━━━━━━━━━━━━━━━━━━━━━━━━━━━━━━━━━━━┛\n",
       "\n",
       "\n",
       "Once you have saved a report, you can select the \u001b[1mShare\u001b[0m button to collaborate. A draft copy of the report is created\n",
       "when you select the \u001b[1mEdit\u001b[0m button. Draft reports auto-save. Select \u001b[1mSave to report\u001b[0m to publish your changes to the     \n",
       "shared report.                                                                                                     \n",
       "\n",
       "A warning notification will appear if an edit conflict occurs. This can occur if you and another collaborator edit \n",
       "the same report at the same time. The warning notification will guide you to resolve potential edit conflicts.     \n",
       "\n",
       "🌆 \u001b]8;id=434286;@site/static/images/reports/share-report.gif\u001b\\Report sharing modal for a report in a 'Public' project\u001b]8;;\u001b\\                                                                                                                    \n",
       "\n",
       "                                                \u001b[1mComment on reports\u001b[0m                                                 \n",
       "\n",
       "Click the comment button on a panel in a report to add a comment directly to that panel.                           \n",
       "\n",
       "🌆 \u001b]8;id=318162;/images/reports/demo_comment_on_panels_in_reports.gif\u001b\\Adding a comment to a panel\u001b]8;;\u001b\\                                                                                                                    \n"
      ]
     },
     "execution_count": 8,
     "metadata": {},
     "output_type": "execute_result"
    }
   ],
   "source": [
    "Markdown(document_sections[0].page_content)"
   ]
  },
  {
   "cell_type": "markdown",
   "metadata": {},
   "source": [
    "## Embeddings\n"
   ]
  },
  {
   "cell_type": "markdown",
   "metadata": {},
   "source": [
    "Now we will use embeddings with a vector database retriever to find relevant documents for a query.\n",
    "\n"
   ]
  },
  {
   "cell_type": "code",
   "execution_count": null,
   "metadata": {},
   "outputs": [],
   "source": [
    "%pip install -U langchain_huggingface"
   ]
  },
  {
   "cell_type": "code",
   "execution_count": null,
   "metadata": {},
   "outputs": [],
   "source": [
    "%pip install sentence-transformers"
   ]
  },
  {
   "cell_type": "code",
   "execution_count": null,
   "metadata": {},
   "outputs": [],
   "source": [
    "from langchain.vectorstores import Chroma\n",
    "from langchain_huggingface import HuggingFaceEmbeddings\n",
    "\n",
    "\n",
    "# Custom embedding function class\n",
    "# class CustomEmbeddingFunction:\n",
    "#     def embed_documents(self, texts):\n",
    "#         return [self.generate_embeddings(text) for text in texts]\n",
    "\n",
    "#     def embed_query(self, query):\n",
    "#         return self.generate_embeddings(query)\n",
    "\n",
    "#     def generate_embeddings(self, text):\n",
    "#         inputs = tokenizer(text, return_tensors=\"pt\").to(\"cuda\")\n",
    "#         with torch.no_grad():\n",
    "#             outputs = model(**inputs, output_hidden_states=True)\n",
    "#         # Use the last hidden state as the embedding and convert to float32\n",
    "#         embeddings = outputs.hidden_states[-1].mean(dim=1).squeeze().to(torch.float32).cpu().numpy()\n",
    "#         return embeddings\n",
    "\n",
    "# # Create an instance of the custom embedding function\n",
    "# embedding_function = CustomEmbeddingFunction()\n",
    "\n",
    "# Generate embeddings for each document section Using HuggingFaceEmbeddings from langchain_huggingface\n",
    "model_name = \"sentence-transformers/all-mpnet-base-v2\"\n",
    "model_kwargs = {\"device\": \"cuda\"}  # Use 'cuda' for GPU or 'cpu' for CPU\n",
    "encode_kwargs = {\"normalize_embeddings\": False}\n",
    "embeddings = HuggingFaceEmbeddings(model_name=model_name, model_kwargs=model_kwargs, encode_kwargs=encode_kwargs)\n",
    "\n",
    "\n",
    "\n",
    "# Store the document sections in a Chroma vector store\n",
    "db = Chroma.from_documents(document_sections, embeddings)"
   ]
  },
  {
   "cell_type": "markdown",
   "metadata": {},
   "source": [
    "We can create a retriever from the db now, we can pass the k param to get the most relevant sections from the similarity search\n",
    "\n"
   ]
  },
  {
   "cell_type": "code",
   "execution_count": 10,
   "metadata": {},
   "outputs": [],
   "source": [
    "retriever = db.as_retriever(search_kwargs=dict(k=3))\n"
   ]
  },
  {
   "cell_type": "code",
   "execution_count": null,
   "metadata": {},
   "outputs": [],
   "source": [
    "query = \"How can I share my W&B report with my team members in a public W&B project?\"\n",
    "docs = retriever.invoke(query)"
   ]
  },
  {
   "cell_type": "code",
   "execution_count": 12,
   "metadata": {},
   "outputs": [
    {
     "name": "stdout",
     "output_type": "stream",
     "text": [
      "docs_sample\\collaborate-on-reports.md\n",
      "docs_sample\\teams.md\n",
      "docs_sample\\collaborate-on-reports.md\n"
     ]
    }
   ],
   "source": [
    "# Let's see the results\n",
    "for doc in docs:\n",
    "    print(doc.metadata[\"source\"])"
   ]
  },
  {
   "cell_type": "code",
   "execution_count": null,
   "metadata": {},
   "outputs": [],
   "source": [
    "# Debugging: Print the embeddings for all document sections\n",
    "for i, doc in enumerate(document_sections):\n",
    "    doc_embedding = embeddings.embed_documents([doc.page_content])[0]\n",
    "    print(f\"Document {i} Embedding:\", doc_embedding)\n",
    "    print(f\"Document {i} Source:\", doc.metadata[\"source\"])"
   ]
  },
  {
   "cell_type": "markdown",
   "metadata": {},
   "source": [
    "## Stuff Prompt\n"
   ]
  },
  {
   "cell_type": "markdown",
   "metadata": {},
   "source": [
    "We'll now take the content of the retrieved documents, stuff them into prompt template along with the query, and pass into an LLM to obtain the answer.\n",
    "\n"
   ]
  },
  {
   "cell_type": "code",
   "execution_count": 13,
   "metadata": {},
   "outputs": [],
   "source": [
    "from langchain.prompts import PromptTemplate"
   ]
  },
  {
   "cell_type": "markdown",
   "metadata": {},
   "source": [
    "PromptTemplate:\n",
    "\n",
    "Prompt template for a language model.\n",
    "\n",
    "A prompt template consists of a string template. It accepts a set of parameters from the user that can be used to generate a prompt for a language model.\n",
    "\n",
    "The template can be formatted using either f-strings (default) or jinja2 syntax.\n",
    "\n",
    "Example:\n",
    "\n",
    "    .. code-block:: python\n",
    "\n",
    "        from langchain_core.prompts import PromptTemplate\n",
    "\n",
    "        # Instantiation using from_template (recommended)\n",
    "        prompt = PromptTemplate.from_template(\"Say {foo}\")\n",
    "        prompt.format(foo=\"bar\")\n",
    "\n",
    "        # Instantiation using initializer\n",
    "        prompt = PromptTemplate(template=\"Say {foo}\")"
   ]
  },
  {
   "cell_type": "code",
   "execution_count": 14,
   "metadata": {},
   "outputs": [],
   "source": [
    "prompt_template = \"\"\"Use the following pieces of context to answer the question at the end.\n",
    "If you don't know the answer, just say that you don't know, don't try to make up an answer.\n",
    "\n",
    "{context}\n",
    "\n",
    "Question: {question}\n",
    "Helpful Answer:\"\"\"\n",
    "PROMPT = PromptTemplate(\n",
    "    template=prompt_template, input_variables=[\"context\", \"question\"]\n",
    ")\n",
    "\n",
    "context = \"\\n\\n\".join([doc.page_content for doc in docs])\n",
    "prompt = PROMPT.format(context=context, question=query)"
   ]
  },
  {
   "cell_type": "markdown",
   "metadata": {},
   "source": [
    "Use langchain to our huggingface model chat API with the question\n",
    "\n"
   ]
  },
  {
   "cell_type": "code",
   "execution_count": null,
   "metadata": {},
   "outputs": [],
   "source": [
    "# Generate the response using the Hugging Face model\n",
    "inputs = tokenizer(prompt, return_tensors=\"pt\").to(\"cuda\")\n",
    "# inputs = tokenizer(prompt, return_tensors=\"pt\").to(\"cpu\")\n",
    "\n",
    "with torch.no_grad():\n",
    "    outputs = model.generate(**inputs, max_new_tokens=150)\n",
    "response = tokenizer.decode(outputs[0], skip_special_tokens=True)\n",
    "# Markdown(response)\n"
   ]
  },
  {
   "cell_type": "code",
   "execution_count": 20,
   "metadata": {},
   "outputs": [
    {
     "data": {
      "text/html": [
       "<pre style=\"white-space:pre;overflow-x:auto;line-height:normal;font-family:Menlo,'DejaVu Sans Mono',consolas,'Courier New',monospace\">You can share your report by clicking the <span style=\"font-weight: bold\">Share</span> button on the upper right hand corner. You can either provide an   \n",
       "email account or copy the magic link. Users invited by email will need to log into Weights &amp; Biases to view the    \n",
       "report. Users who are given a magic link to not need to log into Weights &amp; Biases to view the report. Shared       \n",
       "reports are view-only.                                                                                             \n",
       "</pre>\n"
      ],
      "text/plain": [
       "You can share your report by clicking the \u001b[1mShare\u001b[0m button on the upper right hand corner. You can either provide an   \n",
       "email account or copy the magic link. Users invited by email will need to log into Weights & Biases to view the    \n",
       "report. Users who are given a magic link to not need to log into Weights & Biases to view the report. Shared       \n",
       "reports are view-only.                                                                                             \n"
      ]
     },
     "metadata": {},
     "output_type": "display_data"
    }
   ],
   "source": [
    "# Post-process the response to remove the prompt and question\n",
    "helpful_response = response.split(\"Helpful Answer:\")[1].strip()\n",
    "\n",
    "# Display the response\n",
    "display(Markdown(helpful_response))"
   ]
  },
  {
   "cell_type": "markdown",
   "metadata": {},
   "source": [
    "## Using Langchain"
   ]
  },
  {
   "cell_type": "markdown",
   "metadata": {},
   "source": [
    "With Langchain tools, we can efficiently do this in a few lines of code"
   ]
  },
  {
   "cell_type": "code",
   "execution_count": 28,
   "metadata": {},
   "outputs": [
    {
     "name": "stderr",
     "output_type": "stream",
     "text": [
      "Loading checkpoint shards: 100%|██████████| 3/3 [01:17<00:00, 25.84s/it]\n"
     ]
    }
   ],
   "source": [
    "model_id = \"google/gemma-2-2b\"\n",
    "tokenizer = transformers.AutoTokenizer.from_pretrained(model_id)\n",
    "model = transformers.AutoModelForCausalLM.from_pretrained(model_id, device_map=\"cuda\")\n"
   ]
  },
  {
   "cell_type": "code",
   "execution_count": 29,
   "metadata": {},
   "outputs": [
    {
     "name": "stdout",
     "output_type": "stream",
     "text": [
      "Device map: {'': device(type='cuda')}\n"
     ]
    }
   ],
   "source": [
    "# Print device map for debugging\n",
    "print(f\"Device map: {model.hf_device_map}\")"
   ]
  },
  {
   "cell_type": "code",
   "execution_count": 30,
   "metadata": {},
   "outputs": [
    {
     "name": "stderr",
     "output_type": "stream",
     "text": [
      "Running RetrievalQA:   0%|          | 0/1 [00:00<?, ?it/s]The 'max_batch_size' argument of HybridCache is deprecated and will be removed in v4.46. Use the more precisely named 'batch_size' argument instead.\n",
      "Starting from v4.46, the `logits` model output will have the same type as the model (except at train time, where it will always be FP32)\n",
      "Running RetrievalQA: 100%|██████████| 1/1 [00:52<00:00, 52.64s/it]\n"
     ]
    },
    {
     "data": {
      "text/html": [
       "<pre style=\"white-space:pre;overflow-x:auto;line-height:normal;font-family:Menlo,'DejaVu Sans Mono',consolas,'Courier New',monospace\">Use the following pieces of context to answer the question at the end. If you don't know the answer, just say that \n",
       "you don't know, don't try to make up an answer.                                                                    \n",
       "\n",
       "<span style=\"color: #808000; text-decoration-color: #808000\">───────────────────────────────────────────────────────────────────────────────────────────────────────────────────</span>\n",
       "\n",
       "               <span style=\"font-weight: bold; text-decoration: underline\">description: Collaborate and share W&amp;B Reports with peers, co-workers, and your team.</span>               \n",
       "\n",
       "┏━━━━━━━━━━━━━━━━━━━━━━━━━━━━━━━━━━━━━━━━━━━━━━━━━━━━━━━━━━━━━━━━━━━━━━━━━━━━━━━━━━━━━━━━━━━━━━━━━━━━━━━━━━━━━━━━━┓\n",
       "┃                                             <span style=\"font-weight: bold\">Collaborate on reports</span>                                              ┃\n",
       "┗━━━━━━━━━━━━━━━━━━━━━━━━━━━━━━━━━━━━━━━━━━━━━━━━━━━━━━━━━━━━━━━━━━━━━━━━━━━━━━━━━━━━━━━━━━━━━━━━━━━━━━━━━━━━━━━━━┛\n",
       "\n",
       "\n",
       "Once you have saved a report, you can select the <span style=\"font-weight: bold\">Share</span> button to collaborate. A draft copy of the report is created\n",
       "when you select the <span style=\"font-weight: bold\">Edit</span> button. Draft reports auto-save. Select <span style=\"font-weight: bold\">Save to report</span> to publish your changes to the     \n",
       "shared report.                                                                                                     \n",
       "\n",
       "A warning notification will appear if an edit conflict occurs. This can occur if you and another collaborator edit \n",
       "the same report at the same time. The warning notification will guide you to resolve potential edit conflicts.     \n",
       "\n",
       "🌆 <a href=\"@site/static/images/reports/share-report.gif\" target=\"_blank\">Report sharing modal for a report in a 'Public' project</a>                                                                                                                    \n",
       "\n",
       "                                                <span style=\"font-weight: bold\">Comment on reports</span>                                                 \n",
       "\n",
       "Click the comment button on a panel in a report to add a comment directly to that panel.                           \n",
       "\n",
       "🌆 <a href=\"/images/reports/demo_comment_on_panels_in_reports.gif\" target=\"_blank\">Adding a comment to a panel</a>                                                                                                                    \n",
       "\n",
       "                                                      <span style=\"font-weight: bold\">Reports</span>                                                      \n",
       "\n",
       "Report permissions grant access to create, view, and edit reports. The proceeding table lists permissions that     \n",
       "apply to all reports across a given team.                                                                          \n",
       "\n",
       "                                                                                              \n",
       " <span style=\"font-weight: bold\"> Permissions    </span> <span style=\"font-weight: bold\"> View-Only </span> <span style=\"font-weight: bold\"> Team Member                                      </span> <span style=\"font-weight: bold\"> Team Admin </span> \n",
       " ━━━━━━━━━━━━━━━━━━━━━━━━━━━━━━━━━━━━━━━━━━━━━━━━━━━━━━━━━━━━━━━━━━━━━━━━━━━━━━━━━━━━━━━━━━━━ \n",
       "  View reports     X           X                                                  X           \n",
       "  Create reports               X                                                  X           \n",
       "  Edit reports                 X (team members can only edit their own reports)   X           \n",
       "  Delete reports               X (team members can only edit their own reports)   X           \n",
       "                                                                                              \n",
       "\n",
       "                                                    <span style=\"font-weight: bold\">Experiments</span>                                                    \n",
       "\n",
       "The proceeding table lists permissions that apply to all experiments across a given team.                          \n",
       "\n",
       "Click the comment button on a panel in a report to add a comment directly to that panel.                           \n",
       "\n",
       "🌆 <a href=\"/images/reports/demo_comment_on_panels_in_reports.gif\" target=\"_blank\">Adding a comment to a panel</a>                                                                                                                    \n",
       "\n",
       "                                          <span style=\"font-weight: bold\">Who can edit and share reports?</span>                                          \n",
       "\n",
       "Reports that are created within an individual's private project is only visible to that user. The user can share   \n",
       "their project to a team or to the public.                                                                          \n",
       "\n",
       "On team projects, both the administrator, or member who created the report, can toggle permissions between edit or \n",
       "view access for other team members. Team members can share reports.                                                \n",
       "\n",
       "To share a report, select the <span style=\"font-weight: bold\">Share</span> button on the upper right hand corner.  You can either provide an email account\n",
       "or copy the magic link. Users invited by email will need to log into Weights &amp; Biases to view the report. Users who\n",
       "are given a magic link to not need to log into Weights &amp; Biases to view the report.                                \n",
       "\n",
       "Shared reports are view-only.                                                                                      \n",
       "\n",
       "Question: How can I share my W&amp;B report with my team members in a public W&amp;B project? Helpful Answer: You can share\n",
       "your report with your team members by selecting the <span style=\"font-weight: bold\">Share</span> button on the upper right hand corner.  You can either   \n",
       "provide an email account or copy the magic link. Users invited by email will need to log into Weights &amp; Biases to  \n",
       "view the report. Users who are given a magic link to not need to log into Weights &amp;                                \n",
       "</pre>\n"
      ],
      "text/plain": [
       "Use the following pieces of context to answer the question at the end. If you don't know the answer, just say that \n",
       "you don't know, don't try to make up an answer.                                                                    \n",
       "\n",
       "\u001b[33m───────────────────────────────────────────────────────────────────────────────────────────────────────────────────\u001b[0m\n",
       "\n",
       "               \u001b[1;4mdescription: Collaborate and share W&B Reports with peers, co-workers, and your team.\u001b[0m               \n",
       "\n",
       "┏━━━━━━━━━━━━━━━━━━━━━━━━━━━━━━━━━━━━━━━━━━━━━━━━━━━━━━━━━━━━━━━━━━━━━━━━━━━━━━━━━━━━━━━━━━━━━━━━━━━━━━━━━━━━━━━━━┓\n",
       "┃                                             \u001b[1mCollaborate on reports\u001b[0m                                              ┃\n",
       "┗━━━━━━━━━━━━━━━━━━━━━━━━━━━━━━━━━━━━━━━━━━━━━━━━━━━━━━━━━━━━━━━━━━━━━━━━━━━━━━━━━━━━━━━━━━━━━━━━━━━━━━━━━━━━━━━━━┛\n",
       "\n",
       "\n",
       "Once you have saved a report, you can select the \u001b[1mShare\u001b[0m button to collaborate. A draft copy of the report is created\n",
       "when you select the \u001b[1mEdit\u001b[0m button. Draft reports auto-save. Select \u001b[1mSave to report\u001b[0m to publish your changes to the     \n",
       "shared report.                                                                                                     \n",
       "\n",
       "A warning notification will appear if an edit conflict occurs. This can occur if you and another collaborator edit \n",
       "the same report at the same time. The warning notification will guide you to resolve potential edit conflicts.     \n",
       "\n",
       "🌆 \u001b]8;id=303694;@site/static/images/reports/share-report.gif\u001b\\Report sharing modal for a report in a 'Public' project\u001b]8;;\u001b\\                                                                                                                    \n",
       "\n",
       "                                                \u001b[1mComment on reports\u001b[0m                                                 \n",
       "\n",
       "Click the comment button on a panel in a report to add a comment directly to that panel.                           \n",
       "\n",
       "🌆 \u001b]8;id=803321;/images/reports/demo_comment_on_panels_in_reports.gif\u001b\\Adding a comment to a panel\u001b]8;;\u001b\\                                                                                                                    \n",
       "\n",
       "                                                      \u001b[1mReports\u001b[0m                                                      \n",
       "\n",
       "Report permissions grant access to create, view, and edit reports. The proceeding table lists permissions that     \n",
       "apply to all reports across a given team.                                                                          \n",
       "\n",
       "                                                                                              \n",
       " \u001b[1m \u001b[0m\u001b[1mPermissions\u001b[0m\u001b[1m   \u001b[0m\u001b[1m \u001b[0m \u001b[1m \u001b[0m\u001b[1mView-Only\u001b[0m\u001b[1m \u001b[0m \u001b[1m \u001b[0m\u001b[1mTeam Member\u001b[0m\u001b[1m                                     \u001b[0m\u001b[1m \u001b[0m \u001b[1m \u001b[0m\u001b[1mTeam Admin\u001b[0m\u001b[1m \u001b[0m \n",
       " ━━━━━━━━━━━━━━━━━━━━━━━━━━━━━━━━━━━━━━━━━━━━━━━━━━━━━━━━━━━━━━━━━━━━━━━━━━━━━━━━━━━━━━━━━━━━ \n",
       "  View reports     X           X                                                  X           \n",
       "  Create reports               X                                                  X           \n",
       "  Edit reports                 X (team members can only edit their own reports)   X           \n",
       "  Delete reports               X (team members can only edit their own reports)   X           \n",
       "                                                                                              \n",
       "\n",
       "                                                    \u001b[1mExperiments\u001b[0m                                                    \n",
       "\n",
       "The proceeding table lists permissions that apply to all experiments across a given team.                          \n",
       "\n",
       "Click the comment button on a panel in a report to add a comment directly to that panel.                           \n",
       "\n",
       "🌆 \u001b]8;id=738428;/images/reports/demo_comment_on_panels_in_reports.gif\u001b\\Adding a comment to a panel\u001b]8;;\u001b\\                                                                                                                    \n",
       "\n",
       "                                          \u001b[1mWho can edit and share reports?\u001b[0m                                          \n",
       "\n",
       "Reports that are created within an individual's private project is only visible to that user. The user can share   \n",
       "their project to a team or to the public.                                                                          \n",
       "\n",
       "On team projects, both the administrator, or member who created the report, can toggle permissions between edit or \n",
       "view access for other team members. Team members can share reports.                                                \n",
       "\n",
       "To share a report, select the \u001b[1mShare\u001b[0m button on the upper right hand corner.  You can either provide an email account\n",
       "or copy the magic link. Users invited by email will need to log into Weights & Biases to view the report. Users who\n",
       "are given a magic link to not need to log into Weights & Biases to view the report.                                \n",
       "\n",
       "Shared reports are view-only.                                                                                      \n",
       "\n",
       "Question: How can I share my W&B report with my team members in a public W&B project? Helpful Answer: You can share\n",
       "your report with your team members by selecting the \u001b[1mShare\u001b[0m button on the upper right hand corner.  You can either   \n",
       "provide an email account or copy the magic link. Users invited by email will need to log into Weights & Biases to  \n",
       "view the report. Users who are given a magic link to not need to log into Weights &                                \n"
      ]
     },
     "metadata": {},
     "output_type": "display_data"
    }
   ],
   "source": [
    "from langchain.chains import RetrievalQA\n",
    "from langchain_huggingface import HuggingFaceEndpoint, HuggingFacePipeline\n",
    "from transformers import pipeline\n",
    "from tqdm import tqdm\n",
    "\n",
    "\n",
    "# Initialize the HuggingFace pipeline\n",
    "pipe = pipeline(\"text-generation\", model=model, tokenizer=tokenizer, max_new_tokens=70)  \n",
    "\n",
    "# Initialize the HuggingFace LLM\n",
    "# model_kwargs = {\"tokenizer\": tokenizer}\n",
    "# llm = HuggingFaceEndpoint(model=model, model_kwargs=model_kwargs)\n",
    "llm = HuggingFacePipeline(pipeline=pipe)\n",
    "\n",
    "\n",
    "# Create a RetrievalQA chain\n",
    "qa = RetrievalQA.from_chain_type(llm=llm, chain_type=\"stuff\", retriever=retriever)\n",
    "# result = qa.run(query)\n",
    "# Add a progress bar\n",
    "with tqdm(total=1, desc=\"Running RetrievalQA\") as pbar:\n",
    "    result = qa.run(query)\n",
    "    pbar.update(1)\n",
    "\n",
    "# Display the result\n",
    "display(Markdown(result))"
   ]
  },
  {
   "cell_type": "code",
   "execution_count": 31,
   "metadata": {},
   "outputs": [
    {
     "data": {
      "text/html": [
       "<pre style=\"white-space:pre;overflow-x:auto;line-height:normal;font-family:Menlo,'DejaVu Sans Mono',consolas,'Courier New',monospace\">You can share your report with your team members by selecting the <span style=\"font-weight: bold\">Share</span> button on the upper right hand corner.  You\n",
       "can either provide an email account or copy the magic link. Users invited by email will need to log into Weights &amp; \n",
       "Biases to view the report. Users who are given a magic link to not need to log into Weights &amp;                      \n",
       "</pre>\n"
      ],
      "text/plain": [
       "You can share your report with your team members by selecting the \u001b[1mShare\u001b[0m button on the upper right hand corner.  You\n",
       "can either provide an email account or copy the magic link. Users invited by email will need to log into Weights & \n",
       "Biases to view the report. Users who are given a magic link to not need to log into Weights &                      \n"
      ]
     },
     "metadata": {},
     "output_type": "display_data"
    }
   ],
   "source": [
    "# Post-process the response to remove the prompt and question\n",
    "helpful_result = result.split(\"Helpful Answer:\")[1].strip()\n",
    "\n",
    "# Display the response\n",
    "display(Markdown(helpful_result))"
   ]
  },
  {
   "cell_type": "code",
   "execution_count": 32,
   "metadata": {},
   "outputs": [],
   "source": [
    "import wandb\n",
    "wandb.finish()"
   ]
  },
  {
   "cell_type": "code",
   "execution_count": null,
   "metadata": {},
   "outputs": [],
   "source": [
    "%pip list --format=freeze > requirements.txt"
   ]
  },
  {
   "cell_type": "markdown",
   "metadata": {},
   "source": []
  }
 ],
 "metadata": {
  "kernelspec": {
   "display_name": "Python 3",
   "language": "python",
   "name": "python3"
  },
  "language_info": {
   "codemirror_mode": {
    "name": "ipython",
    "version": 3
   },
   "file_extension": ".py",
   "mimetype": "text/x-python",
   "name": "python",
   "nbconvert_exporter": "python",
   "pygments_lexer": "ipython3",
   "version": "3.11.10"
  }
 },
 "nbformat": 4,
 "nbformat_minor": 2
}
